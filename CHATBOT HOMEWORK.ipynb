{
 "cells": [
  {
   "cell_type": "code",
   "execution_count": 9,
   "metadata": {},
   "outputs": [],
   "source": [
    "#Chatbot de bienvenida al curso de simulación matemática 2018\n",
    "from time import sleep\n",
    "def print_words(sentence):\n",
    "    for word in sentence.split():\n",
    "        for l in word:\n",
    "            sleep(.05)\n",
    "            print(l, end = '')\n",
    "        print(end = ' ')"
   ]
  },
  {
   "cell_type": "code",
   "execution_count": 10,
   "metadata": {},
   "outputs": [],
   "source": [
    "prompt= \"escribe aqui >>  \""
   ]
  },
  {
   "cell_type": "code",
   "execution_count": 11,
   "metadata": {},
   "outputs": [],
   "source": [
    "sentence0= \"POR FAVOR LAS RESPUESTAS QUE INTRUDUZCAS QUE SEAN EN MINÚSCULAS\""
   ]
  },
  {
   "cell_type": "code",
   "execution_count": 12,
   "metadata": {},
   "outputs": [
    {
     "name": "stdout",
     "output_type": "stream",
     "text": [
      "POR FAVOR LAS RESPUESTAS QUE INTRUDUZCAS QUE SEAN EN MINÚSCULAS "
     ]
    }
   ],
   "source": [
    "print_words(sentence0)"
   ]
  },
  {
   "cell_type": "code",
   "execution_count": 13,
   "metadata": {},
   "outputs": [],
   "source": [
    "sentence1= \"Que rollo como andas, este es el curso de simulación matemática si te equivocaste de curso estas a tiempo de salirte \""
   ]
  },
  {
   "cell_type": "code",
   "execution_count": 14,
   "metadata": {},
   "outputs": [
    {
     "name": "stdout",
     "output_type": "stream",
     "text": [
      "Que rollo como andas, este es el curso de simulación matemática si te equivocaste de curso estas a tiempo de salirte "
     ]
    }
   ],
   "source": [
    "print_words(sentence1)"
   ]
  },
  {
   "cell_type": "code",
   "execution_count": 15,
   "metadata": {},
   "outputs": [],
   "source": [
    "sentence2= \"Veo que si te quedaste, al parecer estas en el curso correcto espero que cumpla tus espectativas amig@\""
   ]
  },
  {
   "cell_type": "code",
   "execution_count": 16,
   "metadata": {},
   "outputs": [
    {
     "name": "stdout",
     "output_type": "stream",
     "text": [
      "Veo que si te quedaste, al parecer estas en el curso correcto espero que cumpla tus espectativas amig@ "
     ]
    }
   ],
   "source": [
    "print_words(sentence2)"
   ]
  },
  {
   "cell_type": "code",
   "execution_count": 18,
   "metadata": {},
   "outputs": [],
   "source": [
    "sentence3=\"Mi nombre es Migo y estaré contigo a lo largo de este curso, ¿Qué te parece si nos conocemos aún más?\""
   ]
  },
  {
   "cell_type": "code",
   "execution_count": 19,
   "metadata": {},
   "outputs": [
    {
     "name": "stdout",
     "output_type": "stream",
     "text": [
      "Mi nombre es Migo y estaré contigo a lo largo de este curso, ¿Qué te parece si nos conocemos aún más? "
     ]
    }
   ],
   "source": [
    "print_words(sentence3)"
   ]
  },
  {
   "cell_type": "code",
   "execution_count": 20,
   "metadata": {},
   "outputs": [],
   "source": [
    "sentence4=\"¿Es la primera vez que cursas esta materia?\""
   ]
  },
  {
   "cell_type": "code",
   "execution_count": 21,
   "metadata": {},
   "outputs": [
    {
     "name": "stdout",
     "output_type": "stream",
     "text": [
      "¿Es la primera vez que cursas esta materia? "
     ]
    }
   ],
   "source": [
    "print_words(sentence4)"
   ]
  },
  {
   "cell_type": "code",
   "execution_count": 22,
   "metadata": {},
   "outputs": [
    {
     "name": "stdout",
     "output_type": "stream",
     "text": [
      "escribe aqui >>  no\n"
     ]
    }
   ],
   "source": [
    "answer1=input(prompt)"
   ]
  },
  {
   "cell_type": "code",
   "execution_count": 23,
   "metadata": {},
   "outputs": [
    {
     "name": "stdout",
     "output_type": "stream",
     "text": [
      "No pasa nada carnal esta es la buena "
     ]
    }
   ],
   "source": [
    "if answer1 == \"si\":\n",
    "    print_words(\"!Excelente novat@ te va a gustar¡\")\n",
    "elif answer1 == \"no\":\n",
    "    print_words(\"No pasa nada carnal esta es la buena\")"
   ]
  },
  {
   "cell_type": "code",
   "execution_count": 24,
   "metadata": {},
   "outputs": [],
   "source": [
    "sentence5=\"Disculpa mis modales, se me olvidó preguntarte tu nombre, así que tu eres???\""
   ]
  },
  {
   "cell_type": "code",
   "execution_count": 25,
   "metadata": {},
   "outputs": [
    {
     "name": "stdout",
     "output_type": "stream",
     "text": [
      "Disculpa mis modales, se me olvidó preguntarte tu nombre, así que tu eres??? "
     ]
    }
   ],
   "source": [
    "print_words(sentence5)"
   ]
  },
  {
   "cell_type": "code",
   "execution_count": 26,
   "metadata": {},
   "outputs": [
    {
     "name": "stdout",
     "output_type": "stream",
     "text": [
      "escribe aqui >>  g\n"
     ]
    }
   ],
   "source": [
    "answer_name=input(prompt)"
   ]
  },
  {
   "cell_type": "code",
   "execution_count": 27,
   "metadata": {},
   "outputs": [],
   "source": [
    "sentence6=\"Me agrada el nombre de \"+ answer_name+ \" de casualidad sabes su significado\""
   ]
  },
  {
   "cell_type": "code",
   "execution_count": 28,
   "metadata": {},
   "outputs": [
    {
     "name": "stdout",
     "output_type": "stream",
     "text": [
      "Me agrada el nombre de g de casualidad sabes su significado "
     ]
    }
   ],
   "source": [
    "print_words(sentence6)"
   ]
  },
  {
   "cell_type": "code",
   "execution_count": 29,
   "metadata": {},
   "outputs": [
    {
     "name": "stdout",
     "output_type": "stream",
     "text": [
      "escribe aqui >>  si\n"
     ]
    }
   ],
   "source": [
    "answer3=input(prompt)"
   ]
  },
  {
   "cell_type": "code",
   "execution_count": 30,
   "metadata": {},
   "outputs": [
    {
     "name": "stdout",
     "output_type": "stream",
     "text": [
      "¿Cuál es? escribe aqui >>  f\n",
      "así que tu nombre significa f interesante no tenía ni idea "
     ]
    }
   ],
   "source": [
    "if answer3 == \"si\" :\n",
    "    print_words(\"¿Cuál es?\")\n",
    "    answer_sig=input(prompt)\n",
    "    print_words(\"así que tu nombre significa \"+ answer_sig+\" interesante no tenía ni idea\")\n",
    "elif answer3 == \"no\":\n",
    "    print_words(\"Dame hoy para investigar y mañana te digo que rollo con tu nombre\")"
   ]
  },
  {
   "cell_type": "code",
   "execution_count": 31,
   "metadata": {},
   "outputs": [],
   "source": [
    "sentence7= \"Adivino estudias una ingeniería, ¿si o no? desmienteme si me equivoco \"+answer_name"
   ]
  },
  {
   "cell_type": "code",
   "execution_count": 32,
   "metadata": {},
   "outputs": [
    {
     "name": "stdout",
     "output_type": "stream",
     "text": [
      "Adivino estudias una ingeniería, ¿si o no? desmienteme si me equivoco g "
     ]
    }
   ],
   "source": [
    "print_words(sentence7)"
   ]
  },
  {
   "cell_type": "code",
   "execution_count": 33,
   "metadata": {},
   "outputs": [
    {
     "name": "stdout",
     "output_type": "stream",
     "text": [
      "escribe aqui >>  no\n"
     ]
    }
   ],
   "source": [
    "answer4=input(prompt)"
   ]
  },
  {
   "cell_type": "code",
   "execution_count": 35,
   "metadata": {},
   "outputs": [
    {
     "name": "stdout",
     "output_type": "stream",
     "text": [
      "Entonces ¿Qué estudias? escribe aqui >>  c\n",
      "para ser honesto prefiero las ingenierías, pero c no es una mala elección escogiste una que casi le llega a las ingenierías "
     ]
    }
   ],
   "source": [
    "if answer4 == \"si\" :\n",
    "    print_words(\"jaja lo sabia herman@, ¿Ingenieria en que?\")\n",
    "    prompt2= \"Ingeniería...\"\n",
    "    answer_ing=input(prompt2)\n",
    "    print_words(\"Buena elección de carrera, siempre me interesó la carrera de ingenieria \"+ answer_ing+\", lastima que yo no pueda estudiar\")\n",
    "    \n",
    "elif answer4 == \"no\":\n",
    "    print_words(\"Entonces ¿Qué estudias?\")\n",
    "    answer_c=input(prompt)\n",
    "    print_words(\"para ser honesto prefiero las ingenierías, pero \"+answer_c+\" no es una mala elección escogiste una que casi le llega a las ingenierías\")"
   ]
  },
  {
   "cell_type": "code",
   "execution_count": 36,
   "metadata": {},
   "outputs": [],
   "source": [
    "sentence8=\"Bueno con esa información me basta, ¿Quieres que sigamos charlando?\""
   ]
  },
  {
   "cell_type": "code",
   "execution_count": 37,
   "metadata": {},
   "outputs": [
    {
     "name": "stdout",
     "output_type": "stream",
     "text": [
      "Bueno con esa información me basta, ¿Quieres que sigamos charlando? "
     ]
    }
   ],
   "source": [
    "print_words(sentence8)"
   ]
  },
  {
   "cell_type": "code",
   "execution_count": 38,
   "metadata": {},
   "outputs": [
    {
     "name": "stdout",
     "output_type": "stream",
     "text": [
      "escribe aqui >>  si\n"
     ]
    }
   ],
   "source": [
    "answer_charla=input(prompt)"
   ]
  },
  {
   "cell_type": "code",
   "execution_count": 39,
   "metadata": {},
   "outputs": [
    {
     "name": "stdout",
     "output_type": "stream",
     "text": [
      "Sobre que quieres charlar escribe aqui >>  so\n",
      "Ese tema me parece demasiado aburrido perdón, me tengo que ir si al rato tienes otro tema de conversación en mente me hablas "
     ]
    }
   ],
   "source": [
    "if answer_charla == \"si\" :\n",
    "    print_words(\"Sobre que quieres charlar\")\n",
    "    answerc=input(prompt)\n",
    "    print_words(\"Ese tema me parece demasiado aburrido perdón, me tengo que ir si al rato tienes otro tema de conversación en mente me hablas\")\n",
    "    \n",
    "elif answer_charla== \"no\":\n",
    "    print_words(\"Sale espero que te guste el curso y nos vemos a la proxima ¡Echale ganas!\")\n",
    "   "
   ]
  },
  {
   "cell_type": "code",
   "execution_count": 42,
   "metadata": {},
   "outputs": [
    {
     "name": "stdout",
     "output_type": "stream",
     "text": [
      "POR FAVOR LAS RESPUESTAS QUE INTRUDUZCAS QUE SEAN EN MINÚSCULAS Que rollo como andas, este es el curso de simulación matemática si te equivocaste de curso estas a tiempo de salirte Veo que si te quedaste, al parecer estas en el curso correcto espero que cumpla tus espectativas amig@ Mi nombre es Migo y estaré contigo a lo largo de este curso, ¿Qué te parece si nos conocemos aún más? ¿Es la primera vez que cursas esta materia? escribe aqui >>  si\n",
      "!Excelente novat@ te va a gustar¡ Disculpa mis modales, se me olvidó preguntarte tu nombre, así que tu eres??? escribe aqui >>  alex\n",
      "Me agrada el nombre de alex de casualidad sabes su significado escribe aqui >>  no\n",
      "Dame hoy para investigar y mañana te digo que rollo con tu nombre Adivino estudias una ingeniería, ¿si o no? desmienteme si me equivoco alex escribe aqui >>  si\n",
      "jaja lo sabia herman@, ¿Ingenieria en que? Ingeniería...civil\n",
      "Buena elección de carrera, siempre me interesó la carrera de ingenieria civil, lastima que yo no pueda estudiar Bueno con esa información me basta, ¿Quieres que sigamos charlando? escribe aqui >>  si\n",
      "Sobre que quieres charlar escribe aqui >>  perros\n",
      "Ese tema me parece demasiado aburrido perdón, me tengo que ir si al rato tienes otro tema de conversación en mente me hablas "
     ]
    }
   ],
   "source": [
    "%run chatbot.py"
   ]
  },
  {
   "cell_type": "code",
   "execution_count": null,
   "metadata": {},
   "outputs": [],
   "source": []
  }
 ],
 "metadata": {
  "kernelspec": {
   "display_name": "Python 3",
   "language": "python",
   "name": "python3"
  },
  "language_info": {
   "codemirror_mode": {
    "name": "ipython",
    "version": 3
   },
   "file_extension": ".py",
   "mimetype": "text/x-python",
   "name": "python",
   "nbconvert_exporter": "python",
   "pygments_lexer": "ipython3",
   "version": "3.6.4"
  }
 },
 "nbformat": 4,
 "nbformat_minor": 2
}
