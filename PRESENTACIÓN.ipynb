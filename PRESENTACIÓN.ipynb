{
 "cells": [
  {
   "cell_type": "markdown",
   "metadata": {},
   "source": [
    "# Presentación        \n",
    "## ALEJANDRO DE ANDA\n",
    "<img src=\"https://scontent-dfw5-1.xx.fbcdn.net/v/t1.0-9/29598304_2092674254081634_3557183656174958076_n.jpg?_nc_cat=0&oh=f70fbdd4d1039da10d821f6fd2d1d810&oe=5B7BA249\" width=200 height=200> \n"
   ]
  },
  {
   "cell_type": "markdown",
   "metadata": {},
   "source": [
    "- 19 años\n",
    "- Tepatitlán\n",
    "- Ing. Civil"
   ]
  },
  {
   "cell_type": "markdown",
   "metadata": {},
   "source": [
    "> Me gusta escuchar música y ver series de televisión, mi banda favorita es Dld y la serie que más me ha gustado hasta el momento es game of thrones\n",
    "\n",
    "> Espero que este curso sea dinámico sin mucha teoría, al final de este curso espero poder resolver problemas o hacer predicciones a partir de simulaciones matemáticas, ayudandome así a mejorar tanto en el ambito estudiantil como en el laboral."
   ]
  },
  {
   "cell_type": "code",
   "execution_count": null,
   "metadata": {},
   "outputs": [],
   "source": []
  }
 ],
 "metadata": {
  "kernelspec": {
   "display_name": "Python 3",
   "language": "python",
   "name": "python3"
  },
  "language_info": {
   "codemirror_mode": {
    "name": "ipython",
    "version": 3
   },
   "file_extension": ".py",
   "mimetype": "text/x-python",
   "name": "python",
   "nbconvert_exporter": "python",
   "pygments_lexer": "ipython3",
   "version": "3.6.4"
  }
 },
 "nbformat": 4,
 "nbformat_minor": 2
}
